{
 "cells": [
  {
   "cell_type": "code",
   "execution_count": 13,
   "metadata": {},
   "outputs": [],
   "source": [
    "import pandas as pd\n",
    "import os\n",
    "import gc"
   ]
  },
  {
   "cell_type": "markdown",
   "metadata": {},
   "source": [
    "## Processing from Raw MBSTAR Datasets "
   ]
  },
  {
   "cell_type": "code",
   "execution_count": null,
   "metadata": {},
   "outputs": [],
   "source": [
    "dirnames = os.listdir('./MBStar/MBSTAR_Genome_Wide_pred_res')\n",
    "cols = ['miRNA', 'mRNA', 'Binding sites with flanking regions', 'miRNA Sequence', 'Score']\n",
    "savepath1 = './Processed MBStar/miRNA-wise'"
   ]
  },
  {
   "cell_type": "code",
   "execution_count": null,
   "metadata": {},
   "outputs": [],
   "source": [
    "total_rows = 0\n",
    "for each in dirnames:\n",
    "    filenames = os.listdir(os.path.join('./MBStar/MBSTAR_Genome_Wide_pred_res',each))\n",
    "    df = pd.read_csv(os.path.join('./MBStar/MBSTAR_Genome_Wide_pred_res',each,filenames[0]), \n",
    "                     sep = '\\t', skiprows=1, usecols = cols)\n",
    "    for file in filenames[1:]:\n",
    "        df = df.append(pd.read_csv(os.path.join('./MBStar/MBSTAR_Genome_Wide_pred_res',each,file), \n",
    "                     sep = '\\t', skiprows=1, usecols = cols))\n",
    "    df = df[df.isnull().T.any()==False]\n",
    "    df.to_csv(os.path.join(savepath1, '%s.txt'%(each)), sep = '\\t')\n",
    "    total_rows += df.shape[0]"
   ]
  },
  {
   "cell_type": "code",
   "execution_count": null,
   "metadata": {},
   "outputs": [],
   "source": [
    "total_rows"
   ]
  },
  {
   "cell_type": "code",
   "execution_count": null,
   "metadata": {},
   "outputs": [],
   "source": [
    "total_rows"
   ]
  },
  {
   "cell_type": "code",
   "execution_count": null,
   "metadata": {},
   "outputs": [],
   "source": [
    "partition = int(total_rows/2)"
   ]
  },
  {
   "cell_type": "code",
   "execution_count": null,
   "metadata": {},
   "outputs": [],
   "source": [
    "file"
   ]
  },
  {
   "cell_type": "code",
   "execution_count": null,
   "metadata": {},
   "outputs": [],
   "source": [
    "df.isnull().sum()"
   ]
  },
  {
   "cell_type": "code",
   "execution_count": null,
   "metadata": {},
   "outputs": [],
   "source": [
    "df[df.isnull().T.any()==True]"
   ]
  },
  {
   "cell_type": "markdown",
   "metadata": {},
   "source": [
    "## Partitioning\n",
    "Dividing into Datasets for Next Sentance Prediction and Masked Language Modelling"
   ]
  },
  {
   "cell_type": "code",
   "execution_count": 2,
   "metadata": {},
   "outputs": [],
   "source": [
    "filenames = os.listdir('./Processed MBStar/miRNA-wise')\n",
    "cols = ['miRNA', 'mRNA', 'Binding sites with flanking regions', 'miRNA Sequence', 'Score']\n",
    "savepath2 = './Processed MBStar/partitioned/mlm'\n",
    "savepath3 = './Processed MBStar/partitioned/nsp'\n",
    "partition = 23732461 # 1/2 of the total rows"
   ]
  },
  {
   "cell_type": "code",
   "execution_count": 3,
   "metadata": {},
   "outputs": [
    {
     "data": {
      "text/plain": [
       "['output10.txt',\n",
       " 'output8.txt',\n",
       " 'output4.txt',\n",
       " 'output1.txt',\n",
       " 'output20.txt',\n",
       " 'output3.txt',\n",
       " 'output15.txt',\n",
       " 'output18.txt',\n",
       " 'output9.txt',\n",
       " 'output16.txt',\n",
       " 'output17.txt',\n",
       " 'output2.txt',\n",
       " 'output12.txt',\n",
       " 'output6.txt',\n",
       " 'output14.txt',\n",
       " 'output11.txt',\n",
       " 'output19.txt',\n",
       " 'output7.txt',\n",
       " 'output5.txt',\n",
       " 'output13.txt']"
      ]
     },
     "execution_count": 3,
     "metadata": {},
     "output_type": "execute_result"
    }
   ],
   "source": [
    "filenames"
   ]
  },
  {
   "cell_type": "markdown",
   "metadata": {},
   "source": [
    "### For Masked Language Modelling Adaptation\n",
    "50% of the partition is used for Masked Language Modelling."
   ]
  },
  {
   "cell_type": "code",
   "execution_count": 19,
   "metadata": {},
   "outputs": [
    {
     "name": "stderr",
     "output_type": "stream",
     "text": [
      "/home/abhik/anaconda3/envs/pytorch_env/lib/python3.8/site-packages/numpy/lib/arraysetops.py:569: FutureWarning: elementwise comparison failed; returning scalar instead, but in the future will perform elementwise comparison\n",
      "  mask |= (ar1 == a)\n"
     ]
    },
    {
     "name": "stdout",
     "output_type": "stream",
     "text": [
      "0 1954317 1954317 output10.txt\n",
      "1 4118035 4118035 output8.txt\n",
      "2 6375433 6375433 output4.txt\n",
      "3 9180167 9180167 output1.txt\n",
      "Saving chunk... 1\n",
      "4 3304595 12484762 output20.txt\n",
      "5 5590041 14770208 output3.txt\n",
      "6 7782324 16962491 output15.txt\n",
      "Saving chunk... 2\n",
      "7 2062929 19025420 output18.txt\n",
      "8 3941953 20904444 output9.txt\n",
      "9 6020687 22983178 output16.txt\n",
      "Saving chunk... 3\n",
      "10 2167140 25150318 output17.txt\n",
      "25150318 23732461 25150318 11\n"
     ]
    }
   ],
   "source": [
    "mlm_rows = 0\n",
    "prev_rows = 0\n",
    "c = 0\n",
    "flag = False\n",
    "\n",
    "for idx1, each in enumerate(filenames):\n",
    "    if idx1 == 0 or flag:\n",
    "        df = pd.read_csv(os.path.join('./Processed MBStar/miRNA-wise',each), \n",
    "                     sep = '\\t', skiprows=0, index_col=0)\n",
    "        prev_rows = df.shape[0]\n",
    "        flag = False\n",
    "    else:\n",
    "        df = df.append(pd.read_csv(os.path.join('./Processed MBStar/miRNA-wise',each), \n",
    "                         sep = '\\t', index_col=0))\n",
    "#     print(df.head())\n",
    "    \n",
    "    mlm_rows += df.shape[0] if idx1 == 0 or (idx1%3==1 and idx1>1) or flag else df.shape[0] - prev_rows\n",
    "    prev_rows = df.shape[0]\n",
    "    \n",
    "    print(idx1, df.shape[0], mlm_rows, each)\n",
    "    \n",
    "    if idx1%3==0 and idx1 != 0:\n",
    "        miRNA_df = df[['miRNA', 'miRNA Sequence']]\n",
    "        mRNA_df = df[['mRNA', 'Binding sites with flanking regions']]\n",
    "        \n",
    "        miRNA_df.to_csv(os.path.join(savepath2, 'mlm_mirna_data_chunk_{}.txt'.format(c)), sep='\\t')\n",
    "        mRNA_df.to_csv(os.path.join(savepath2, 'mlm_mrna_data_chunk_{}.txt'.format(c)), sep='\\t')\n",
    "        \n",
    "        c+=1\n",
    "        flag = True\n",
    "        print(\"Saving chunk...\",c)\n",
    "        del [[df, miRNA_df, mRNA_df]]\n",
    "        gc.collect()\n",
    "    \n",
    "    if mlm_rows >= partition:\n",
    "        idx_nsp = idx1+1\n",
    "        miRNA_df = df[['miRNA', 'miRNA Sequence']]\n",
    "        mRNA_df = df[['mRNA', 'Binding sites with flanking regions']]\n",
    "        \n",
    "        miRNA_df.to_csv(os.path.join(savepath2, 'mlm_mirna_data_chunk_{}.txt'.format(c)), sep='\\t')\n",
    "        mRNA_df.to_csv(os.path.join(savepath2, 'mlm_mrna_data_chunk_{}.txt'.format(c)), sep='\\t')\n",
    "        break\n",
    "\n",
    "print(mlm_rows, partition, mlm_rows, idx_nsp)\n",
    "        "
   ]
  },
  {
   "cell_type": "code",
   "execution_count": 21,
   "metadata": {},
   "outputs": [
    {
     "data": {
      "text/plain": [
       "4109"
      ]
     },
     "execution_count": 21,
     "metadata": {},
     "output_type": "execute_result"
    }
   ],
   "source": [
    "del miRNA_df, mRNA_df\n",
    "gc.collect()"
   ]
  },
  {
   "cell_type": "markdown",
   "metadata": {},
   "source": [
    "### For Next Sentance Prediction Adaptation\n",
    "Remaining 50% of partition is used for NSP"
   ]
  },
  {
   "cell_type": "code",
   "execution_count": 25,
   "metadata": {},
   "outputs": [
    {
     "name": "stdout",
     "output_type": "stream",
     "text": [
      "0 2222301 2222301 output12.txt\n",
      "1 5083876 5083876 output6.txt\n",
      "2 7390866 7390866 output14.txt\n",
      "3 9401831 9401831 output11.txt\n",
      "Saving chunk... 0\n",
      "4 2133259 11535090 output19.txt\n",
      "5 4021807 15556897 output7.txt\n",
      "6 2201504 17758401 output5.txt\n",
      "Saving chunk... 1\n",
      "7 2315103 20073504 output13.txt\n",
      "Saving chunk... 2\n",
      "20073504 23732461 7\n"
     ]
    }
   ],
   "source": [
    "nsp_rows = 0\n",
    "c = 0\n",
    "flag = False\n",
    "\n",
    "for idx2, each in enumerate(filenames[idx_nsp+1:]):\n",
    "    if idx2 == 0 or flag:\n",
    "        df = pd.read_csv(os.path.join('./Processed MBStar/miRNA-wise',each), \n",
    "                     sep = '\\t', index_col=0)\n",
    "        prev_rows = df.shape[0]\n",
    "    else:\n",
    "        df = df.append(pd.read_csv(os.path.join('./Processed MBStar/miRNA-wise',each), \n",
    "                         sep = '\\t', index_col=0))\n",
    "#     print(df.head())\n",
    "    \n",
    "    \n",
    "    nsp_rows += df.shape[0] if idx2 == 0 or (idx2%3==1 and idx2>1) or flag else df.shape[0] - prev_rows\n",
    "    prev_rows = df.shape[0]\n",
    "    print(idx2, df.shape[0], nsp_rows, each)\n",
    "    \n",
    "    if idx2%3==0 and idx2 != 0:\n",
    "        df.to_csv(os.path.join(savepath3, 'nsp_data_chunk_{}.txt'.format(c)), sep='\\t')\n",
    "        print(\"Saving chunk...\",c)\n",
    "        c += 1\n",
    "        flag = True\n",
    "        del df\n",
    "        gc.collect()\n",
    "\n",
    "df.to_csv(os.path.join(savepath3, 'nsp_data_chunk_{}.txt'.format(c)), sep='\\t')\n",
    "print(\"Saving chunk...\",c)\n",
    "del df\n",
    "gc.collect()        \n",
    "\n",
    "print(nsp_rows, partition, idx2)"
   ]
  },
  {
   "cell_type": "code",
   "execution_count": null,
   "metadata": {},
   "outputs": [],
   "source": []
  }
 ],
 "metadata": {
  "kernelspec": {
   "display_name": "Python 3",
   "language": "python",
   "name": "python3"
  },
  "language_info": {
   "codemirror_mode": {
    "name": "ipython",
    "version": 3
   },
   "file_extension": ".py",
   "mimetype": "text/x-python",
   "name": "python",
   "nbconvert_exporter": "python",
   "pygments_lexer": "ipython3",
   "version": "3.8.3"
  }
 },
 "nbformat": 4,
 "nbformat_minor": 4
}
