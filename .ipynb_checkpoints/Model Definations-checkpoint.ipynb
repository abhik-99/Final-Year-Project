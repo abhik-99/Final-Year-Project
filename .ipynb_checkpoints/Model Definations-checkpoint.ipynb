{
 "cells": [
  {
   "cell_type": "markdown",
   "metadata": {},
   "source": [
    "# Model \n",
    "This notebook is used for designing the custom Albert model. The model is also being tested as sanity check. The custom model is implemented as a Pytorch Lightning module.\n",
    "\n",
    "**Current Tasks Remaining**:-\n",
    "1. Implement the training_step(), configure_optimizer().\n",
    "2. Modify the dataloaders. \n",
    "3. sanity Check run.\n",
    "4. Increase MLM data size.\n",
    "\n",
    "The forward function needs to have all the parameters mentioned at this [link](https://github.com/huggingface/transformers/blob/master/src/transformers/models/albert/modeling_albert.py#L640). The output from this model will then be passed into the MLM head of the Albert and the loss used will be **CrossEntropyLoss** with **Adam** Optimizer.\n",
    "\n",
    "### Note:\n",
    "Will also need to check the batch size permissible along with the gpus option on PL."
   ]
  },
  {
   "cell_type": "code",
   "execution_count": 1,
   "metadata": {},
   "outputs": [],
   "source": [
    "from transformers import AlbertConfig, AlbertModel\n",
    "from transformers.modeling_albert import AlbertMLMHead\n",
    "import torch\n",
    "from torch import nn\n",
    "import pytorch_lightning as pl"
   ]
  },
  {
   "cell_type": "markdown",
   "metadata": {},
   "source": [
    "## Defining custom Albert Config\n",
    "\n",
    "Refer to [this](https://github.com/huggingface/transformers/blob/48cc224703a8dd8d03d2721c8651fea8704d994b/src/transformers/models/albert/configuration_albert.py#L33) link to understand the meaning of the parameters"
   ]
  },
  {
   "cell_type": "code",
   "execution_count": 2,
   "metadata": {},
   "outputs": [],
   "source": [
    "# Hyperparameters\n",
    "vocab_size = 10\n",
    "embedding_size = 16\n",
    "hidden_size = 768\n",
    "num_attention_heads = 12\n",
    "intermediate_size = 3072\n"
   ]
  },
  {
   "cell_type": "code",
   "execution_count": 3,
   "metadata": {},
   "outputs": [],
   "source": [
    "# Defining Custom Albert Model config\n",
    "custom_config = AlbertConfig(\n",
    "    vocab_size=vocab_size, # A, C, T, G, U, UNK, MASK, PAD, CLS, SEP\n",
    "    embedding_size=embedding_size, #this will be scaled to 32 and 64 for ablation experiments\n",
    "    hidden_size=hidden_size,\n",
    "    num_attention_heads=num_attention_heads,\n",
    "    intermediate_size=intermediate_size,\n",
    ")"
   ]
  },
  {
   "cell_type": "code",
   "execution_count": 4,
   "metadata": {},
   "outputs": [],
   "source": [
    "custom_model = AlbertModel(custom_config) # custom model"
   ]
  },
  {
   "cell_type": "code",
   "execution_count": 5,
   "metadata": {},
   "outputs": [],
   "source": [
    "#downloading from huggingface the pretrained model\n",
    "pretrained_model = AlbertModel.from_pretrained('albert-base-v2', return_dict=True)\n",
    "# pretrained_model.save_pretrained('./albert_base_v2')"
   ]
  },
  {
   "cell_type": "code",
   "execution_count": 6,
   "metadata": {},
   "outputs": [],
   "source": [
    "# masked language modelling head\n",
    "# this MLM head will be put on top our custom config albert\n",
    "# and trained on miRNA and mRNA sequences separately.\n",
    "mlm_head = AlbertMLMHead(custom_config) "
   ]
  },
  {
   "cell_type": "code",
   "execution_count": 7,
   "metadata": {},
   "outputs": [
    {
     "data": {
      "text/plain": [
       "AlbertModel(\n",
       "  (embeddings): AlbertEmbeddings(\n",
       "    (word_embeddings): Embedding(30000, 128, padding_idx=0)\n",
       "    (position_embeddings): Embedding(512, 128)\n",
       "    (token_type_embeddings): Embedding(2, 128)\n",
       "    (LayerNorm): LayerNorm((128,), eps=1e-12, elementwise_affine=True)\n",
       "    (dropout): Dropout(p=0, inplace=False)\n",
       "  )\n",
       "  (encoder): AlbertTransformer(\n",
       "    (embedding_hidden_mapping_in): Linear(in_features=128, out_features=768, bias=True)\n",
       "    (albert_layer_groups): ModuleList(\n",
       "      (0): AlbertLayerGroup(\n",
       "        (albert_layers): ModuleList(\n",
       "          (0): AlbertLayer(\n",
       "            (full_layer_layer_norm): LayerNorm((768,), eps=1e-12, elementwise_affine=True)\n",
       "            (attention): AlbertAttention(\n",
       "              (query): Linear(in_features=768, out_features=768, bias=True)\n",
       "              (key): Linear(in_features=768, out_features=768, bias=True)\n",
       "              (value): Linear(in_features=768, out_features=768, bias=True)\n",
       "              (attention_dropout): Dropout(p=0, inplace=False)\n",
       "              (output_dropout): Dropout(p=0, inplace=False)\n",
       "              (dense): Linear(in_features=768, out_features=768, bias=True)\n",
       "              (LayerNorm): LayerNorm((768,), eps=1e-12, elementwise_affine=True)\n",
       "            )\n",
       "            (ffn): Linear(in_features=768, out_features=3072, bias=True)\n",
       "            (ffn_output): Linear(in_features=3072, out_features=768, bias=True)\n",
       "            (dropout): Dropout(p=0, inplace=False)\n",
       "          )\n",
       "        )\n",
       "      )\n",
       "    )\n",
       "  )\n",
       "  (pooler): Linear(in_features=768, out_features=768, bias=True)\n",
       "  (pooler_activation): Tanh()\n",
       ")"
      ]
     },
     "execution_count": 7,
     "metadata": {},
     "output_type": "execute_result"
    }
   ],
   "source": [
    "pretrained_model"
   ]
  },
  {
   "cell_type": "code",
   "execution_count": 8,
   "metadata": {},
   "outputs": [
    {
     "data": {
      "text/plain": [
       "AlbertModel(\n",
       "  (embeddings): AlbertEmbeddings(\n",
       "    (word_embeddings): Embedding(10, 16, padding_idx=0)\n",
       "    (position_embeddings): Embedding(512, 16)\n",
       "    (token_type_embeddings): Embedding(2, 16)\n",
       "    (LayerNorm): LayerNorm((16,), eps=1e-12, elementwise_affine=True)\n",
       "    (dropout): Dropout(p=0, inplace=False)\n",
       "  )\n",
       "  (encoder): AlbertTransformer(\n",
       "    (embedding_hidden_mapping_in): Linear(in_features=16, out_features=768, bias=True)\n",
       "    (albert_layer_groups): ModuleList(\n",
       "      (0): AlbertLayerGroup(\n",
       "        (albert_layers): ModuleList(\n",
       "          (0): AlbertLayer(\n",
       "            (full_layer_layer_norm): LayerNorm((768,), eps=1e-12, elementwise_affine=True)\n",
       "            (attention): AlbertAttention(\n",
       "              (query): Linear(in_features=768, out_features=768, bias=True)\n",
       "              (key): Linear(in_features=768, out_features=768, bias=True)\n",
       "              (value): Linear(in_features=768, out_features=768, bias=True)\n",
       "              (attention_dropout): Dropout(p=0, inplace=False)\n",
       "              (output_dropout): Dropout(p=0, inplace=False)\n",
       "              (dense): Linear(in_features=768, out_features=768, bias=True)\n",
       "              (LayerNorm): LayerNorm((768,), eps=1e-12, elementwise_affine=True)\n",
       "            )\n",
       "            (ffn): Linear(in_features=768, out_features=3072, bias=True)\n",
       "            (ffn_output): Linear(in_features=3072, out_features=768, bias=True)\n",
       "            (dropout): Dropout(p=0, inplace=False)\n",
       "          )\n",
       "        )\n",
       "      )\n",
       "    )\n",
       "  )\n",
       "  (pooler): Linear(in_features=768, out_features=768, bias=True)\n",
       "  (pooler_activation): Tanh()\n",
       ")"
      ]
     },
     "execution_count": 8,
     "metadata": {},
     "output_type": "execute_result"
    }
   ],
   "source": [
    "custom_model"
   ]
  },
  {
   "cell_type": "code",
   "execution_count": 9,
   "metadata": {},
   "outputs": [
    {
     "data": {
      "text/plain": [
       "AlbertModel(\n",
       "  (embeddings): AlbertEmbeddings(\n",
       "    (word_embeddings): Embedding(10, 16, padding_idx=0)\n",
       "    (position_embeddings): Embedding(512, 128)\n",
       "    (token_type_embeddings): Embedding(2, 128)\n",
       "    (LayerNorm): LayerNorm((128,), eps=1e-12, elementwise_affine=True)\n",
       "    (dropout): Dropout(p=0, inplace=False)\n",
       "  )\n",
       "  (encoder): AlbertTransformer(\n",
       "    (embedding_hidden_mapping_in): Linear(in_features=128, out_features=768, bias=True)\n",
       "    (albert_layer_groups): ModuleList(\n",
       "      (0): AlbertLayerGroup(\n",
       "        (albert_layers): ModuleList(\n",
       "          (0): AlbertLayer(\n",
       "            (full_layer_layer_norm): LayerNorm((768,), eps=1e-12, elementwise_affine=True)\n",
       "            (attention): AlbertAttention(\n",
       "              (query): Linear(in_features=768, out_features=768, bias=True)\n",
       "              (key): Linear(in_features=768, out_features=768, bias=True)\n",
       "              (value): Linear(in_features=768, out_features=768, bias=True)\n",
       "              (attention_dropout): Dropout(p=0, inplace=False)\n",
       "              (output_dropout): Dropout(p=0, inplace=False)\n",
       "              (dense): Linear(in_features=768, out_features=768, bias=True)\n",
       "              (LayerNorm): LayerNorm((768,), eps=1e-12, elementwise_affine=True)\n",
       "            )\n",
       "            (ffn): Linear(in_features=768, out_features=3072, bias=True)\n",
       "            (ffn_output): Linear(in_features=3072, out_features=768, bias=True)\n",
       "            (dropout): Dropout(p=0, inplace=False)\n",
       "          )\n",
       "        )\n",
       "      )\n",
       "    )\n",
       "  )\n",
       "  (pooler): Linear(in_features=768, out_features=768, bias=True)\n",
       "  (pooler_activation): Tanh()\n",
       ")"
      ]
     },
     "execution_count": 9,
     "metadata": {},
     "output_type": "execute_result"
    }
   ],
   "source": [
    "# Since the pretrained model has a vocabulary of 30k\n",
    "# and embedding size of 128, we need to downscale it\n",
    "# to our requirements\n",
    "# Thus, here the embeddings are not pretrained but\n",
    "# only the main model is. Objective of this is to \n",
    "# leverage the latent space of pretrained model.\n",
    "\n",
    "pretrained_model.resize_token_embeddings(10)\n",
    "pretrained_model.set_input_embeddings(nn.Embedding(10,16, padding_idx=0))\n",
    "pretrained_model"
   ]
  },
  {
   "cell_type": "code",
   "execution_count": 10,
   "metadata": {},
   "outputs": [
    {
     "data": {
      "text/plain": [
       "AlbertMLMHead(\n",
       "  (LayerNorm): LayerNorm((16,), eps=1e-05, elementwise_affine=True)\n",
       "  (dense): Linear(in_features=768, out_features=16, bias=True)\n",
       "  (decoder): Linear(in_features=16, out_features=10, bias=True)\n",
       ")"
      ]
     },
     "execution_count": 10,
     "metadata": {},
     "output_type": "execute_result"
    }
   ],
   "source": [
    "mlm_head"
   ]
  },
  {
   "cell_type": "code",
   "execution_count": 15,
   "metadata": {},
   "outputs": [],
   "source": [
    "from torch.utils.data import DataLoader, Dataset\n",
    "from torch.nn.utils.rnn import pad_sequence\n",
    "import pandas as pd"
   ]
  },
  {
   "cell_type": "code",
   "execution_count": 16,
   "metadata": {},
   "outputs": [],
   "source": [
    "class Vocabulary:\n",
    "    def __init__(self):\n",
    "\n",
    "        self.itos = {0: \"[PAD]\", 1: \"[START]\", 2: \"[END]\", 3: \"[UNK]\", 4: \"[MASK]\"}\n",
    "        self.stoi = {\"[PAD]\": 0, \"[START]\": 1, \"[END]\": 2, \"[UNK]\": 3, \"[MASK]\": 4}\n",
    "\n",
    "    def __len__(self):\n",
    "        return len(self.itos)\n",
    "\n",
    "    #returns the numeric token value of a given string token\n",
    "    def get_idx(self, token):\n",
    "        return self.stoi[token]\n",
    "    \n",
    "    #returns the alphanumeric token value given the token idx\n",
    "    def get_token(self, token):\n",
    "        return self.itos[token]\n",
    "\n",
    "    @staticmethod\n",
    "    def tokenizer_seq(fasta_seq):\n",
    "#         print(fasta_seq)\n",
    "        return [str(x) for x in list(fasta_seq)]\n",
    "\n",
    "    def build_vocabulary(self):\n",
    "        frequencies = {}\n",
    "        idx = len(self.itos)\n",
    "        for idx1, base in enumerate(list('acgut')):\n",
    "            self.stoi[base] = idx+idx1\n",
    "            self.itos[idx+idx1] = base\n",
    "\n",
    "    def numericalize(self, fasta_seq):\n",
    "        tokenized_seq = self.tokenizer_seq(fasta_seq.lower())\n",
    "        return [\n",
    "            self.stoi[token] if token in self.stoi else self.stoi[\"[UNK]\"]\n",
    "            for token in tokenized_seq\n",
    "        ]"
   ]
  },
  {
   "cell_type": "code",
   "execution_count": 85,
   "metadata": {},
   "outputs": [],
   "source": [
    "class SequenceDataset(Dataset):\n",
    "    def __init__(self, filename, sep='\\t'):\n",
    "        self.df = pd.read_csv(filename,sep=sep, index_col=0)\n",
    "#         print(self.df.head())\n",
    "        # Dataset Column Positions - mRNA  Binding sites with flanking regions\n",
    "        self.mirna_names = self.df.iloc[:, 0].values\n",
    "        self.mirna_seqs = self.df.iloc[:, 1].values\n",
    "        #concatenating row-wise to create a combined vocabulary\n",
    "#         all_seq = self.mirna[:] + self.mrna\n",
    "        \n",
    "        # Initialize vocabulary and build vocab\n",
    "        self.vocab = Vocabulary()\n",
    "        self.vocab.build_vocabulary()\n",
    "\n",
    "    def __len__(self):\n",
    "        return self.df.shape[0]\n",
    "\n",
    "    def numericalize_seq(self,seq):\n",
    "        numericalized_seq = [self.vocab.stoi[\"[START]\"]]\n",
    "        numericalized_seq += self.vocab.numericalize(seq)\n",
    "        numericalized_seq.append(self.vocab.stoi[\"[END]\"])\n",
    "        return numericalized_seq\n",
    "\n",
    "    def get_vocabulary(self):\n",
    "        return self.vocab.stoi\n",
    "\n",
    "    def __getitem__(self, index):\n",
    "#         print(index, self.mirna_names[index])\n",
    "        return torch.tensor(self.numericalize_seq(self.mirna_seqs[index]))"
   ]
  },
  {
   "cell_type": "code",
   "execution_count": 108,
   "metadata": {},
   "outputs": [],
   "source": [
    "class CollateSequences:\n",
    "    def __init__(self, pad_idx):\n",
    "        self.pad_idx = pad_idx\n",
    "\n",
    "    def __call__(self, batch):\n",
    "        \n",
    "        seq = [item for item in batch]\n",
    "#         print(seq)\n",
    "        seq = pad_sequence(seq, batch_first=True, padding_value=self.pad_idx)\n",
    "\n",
    "        return seq"
   ]
  },
  {
   "cell_type": "code",
   "execution_count": 109,
   "metadata": {},
   "outputs": [],
   "source": [
    "batch_size=5\n",
    "num_workers=1\n",
    "shuffle=True\n",
    "pin_memory=True\n",
    "\n",
    "dataset = SequenceDataset(filename='./Processed MBStar/partitioned/mlm/mlm_mrna_data_chunk_0.txt')\n",
    "\n",
    "pad_idx = dataset.vocab.stoi[\"[PAD]\"]\n",
    "\n",
    "loader = DataLoader(\n",
    "        dataset=dataset,\n",
    "        batch_size=batch_size,\n",
    "        num_workers=num_workers,\n",
    "        shuffle=shuffle,\n",
    "        pin_memory=pin_memory,\n",
    "        collate_fn=CollateSequences(pad_idx=pad_idx)\n",
    "    )"
   ]
  },
  {
   "cell_type": "code",
   "execution_count": 131,
   "metadata": {
    "scrolled": true
   },
   "outputs": [
    {
     "name": "stdout",
     "output_type": "stream",
     "text": [
      "tensor([[[ 0.6997,  0.3745,  0.1816,  ...,  1.0446, -0.2789, -0.2224],\n",
      "         [ 0.6947, -0.0811,  0.0850,  ...,  1.1935, -0.0984, -0.2778],\n",
      "         [ 0.7763,  0.0597,  0.3298,  ...,  1.4552,  0.0421, -0.1564],\n",
      "         ...,\n",
      "         [ 0.5522,  0.1945, -0.0725,  ...,  1.3281,  0.1849, -0.6449],\n",
      "         [ 0.8187, -0.0764, -0.1441,  ...,  0.8490, -0.4269, -0.1223],\n",
      "         [ 0.6554,  0.0210,  0.1730,  ...,  1.0638, -0.0494, -0.1477]],\n",
      "\n",
      "        [[ 0.6382,  0.3641, -0.0614,  ...,  0.9362, -0.1965, -0.4424],\n",
      "         [ 0.6610, -0.0856, -0.1174,  ...,  1.0929, -0.0645, -0.4428],\n",
      "         [ 0.6021, -0.0654, -0.0023,  ...,  1.2946,  0.3746, -0.5992],\n",
      "         ...,\n",
      "         [ 0.4687,  0.1589, -0.3843,  ...,  1.1282,  0.2986, -0.8939],\n",
      "         [ 0.5501,  0.0788, -0.3041,  ...,  0.7473, -0.0656, -0.4587],\n",
      "         [ 0.8362,  0.2290, -0.2045,  ...,  1.0486, -0.3090, -0.5115]],\n",
      "\n",
      "        [[ 0.6808,  0.4067,  0.0587,  ...,  0.9949, -0.2468, -0.3327],\n",
      "         [ 0.7219, -0.1294,  0.0785,  ...,  1.3080, -0.0338, -0.2966],\n",
      "         [ 0.7593,  0.0847,  0.1818,  ...,  1.4219,  0.0691, -0.3039],\n",
      "         ...,\n",
      "         [ 0.7461,  0.1284,  0.0424,  ...,  1.2706,  0.0475, -0.3497],\n",
      "         [ 0.9093,  0.1952,  0.1378,  ...,  0.8966, -0.2777,  0.0451],\n",
      "         [ 0.6353,  0.0645,  0.0528,  ...,  1.0203, -0.0358, -0.2674]],\n",
      "\n",
      "        [[ 0.7041,  0.3483,  0.1829,  ...,  1.0648, -0.2959, -0.1944],\n",
      "         [ 0.7060, -0.0724,  0.2164,  ...,  1.4152,  0.0507, -0.2769],\n",
      "         [ 0.6675, -0.0386,  0.2563,  ...,  1.4451,  0.2179, -0.2788],\n",
      "         ...,\n",
      "         [ 0.5673,  0.1748, -0.0756,  ...,  1.3580,  0.1538, -0.6158],\n",
      "         [ 0.7245, -0.0813,  0.0288,  ...,  1.0732, -0.3431, -0.0645],\n",
      "         [ 0.6684,  0.0116,  0.1676,  ...,  1.0976, -0.0775, -0.1259]],\n",
      "\n",
      "        [[ 0.7090,  0.3456,  0.1409,  ...,  1.0768, -0.3087, -0.2140],\n",
      "         [ 0.7014, -0.0904,  0.0606,  ...,  1.2128, -0.1256, -0.2660],\n",
      "         [ 0.7636, -0.0367,  0.0851,  ...,  1.1948, -0.1119, -0.2453],\n",
      "         ...,\n",
      "         [ 0.5738,  0.1713, -0.1059,  ...,  1.3765,  0.1354, -0.6303],\n",
      "         [ 0.6433,  0.0412, -0.0574,  ...,  0.9961, -0.1530, -0.2613],\n",
      "         [ 0.9007,  0.2121, -0.0559,  ...,  1.1948, -0.4337, -0.2476]]],\n",
      "       grad_fn=<AddBackward0>)\n"
     ]
    }
   ],
   "source": [
    "import numpy as np\n",
    "for _, a in enumerate(loader):\n",
    "#     print(a)\n",
    "#     print(a.shape)\n",
    "#     print(a.masked_fill(a != 0, value=1))\n",
    "    \n",
    "    logits = custom_model(input_ids=a, attention_mask=a.masked_fill(a != 0, value=1))\n",
    "    logits = mlm_head(logits[0])\n",
    "    \n",
    "    print(logits)\n",
    "    break"
   ]
  },
  {
   "cell_type": "code",
   "execution_count": 11,
   "metadata": {},
   "outputs": [],
   "source": [
    "from transformers import AlbertConfig, AlbertModel\n",
    "from transformers.modeling_albert import AlbertMLMHead\n",
    "from torch.nn import CrossEntropyLoss\n",
    "import torch\n",
    "from torch import nn\n",
    "import numpy as np\n",
    "\n",
    "class CustomAlbert(pl.LightningModule):\n",
    "    def __init__(self, vocab_size=10, embedding_size=16, hidden_size=768, num_attention_heads=12, intermediate_size=3072):\n",
    "        super(CustomAlbert, self).__init__()\n",
    "        \n",
    "        self.save_hyperparameters()\n",
    "        \n",
    "        self.vocab_size = vocab_size\n",
    "        self.embedding_size = embedding_size\n",
    "        self.hidden_size = hidden_size\n",
    "        self.num_attention_heads = num_attention_heads\n",
    "        self.intermediate_size = intermediate_size\n",
    "        \n",
    "        custom_config = AlbertConfig(\n",
    "            vocab_size=vocab_size, # A, C, T, G, U, UNK, MASK, PAD, CLS, SEP\n",
    "            embedding_size=embedding_size, #this will be scaled to 32 and 64 for ablation experiments\n",
    "            hidden_size=hidden_size,\n",
    "            num_attention_heads=num_attention_heads,\n",
    "            intermediate_size=intermediate_size,\n",
    "        )\n",
    "        \n",
    "        self.custom_model = AlbertModel(custom_config) # custom model\n",
    "        self.mlm_head = AlbertMLMHead(custom_config) # mlm head\n",
    "        self.loss = CrossEntropyLoss()\n",
    "\n",
    "    def forward(\n",
    "        self, \n",
    "        input_ids=None,\n",
    "        attention_mask=None,\n",
    "        token_type_ids=None,\n",
    "        position_ids=None,\n",
    "        head_mask=None,\n",
    "        inputs_embeds=None,\n",
    "        labels=None,\n",
    "        sentence_order_label=None,\n",
    "        output_attentions=None,\n",
    "        output_hidden_states=None,\n",
    "        return_dict=None):\n",
    "        \n",
    "        outputs = self.custom_model(\n",
    "            input_ids,\n",
    "            attention_mask=attention_mask,\n",
    "            token_type_ids=token_type_ids,\n",
    "            position_ids=position_ids,\n",
    "            head_mask=head_mask,\n",
    "            inputs_embeds=inputs_embeds,\n",
    "            output_attentions=output_attentions,\n",
    "            output_hidden_states=output_hidden_states,\n",
    "            return_dict=return_dict,\n",
    "        )\n",
    "\n",
    "        sequence_output, pooled_output = outputs[:2]\n",
    "        \n",
    "        prediction_scores = self.mlm_head(sequence_output)\n",
    "        \n",
    "        return prediction_scores\n",
    "    \n",
    "    def training_step(self, batch):\n",
    "        seq = batch\n",
    "        attention_mask = seq.masked_fill( seq != 0, value=1)\n",
    "        logits = self(input_ids=seq, attention_mask=attention_mask)\n",
    "        \n",
    "        active_loss = attention_mask.view(-1) == 1\n",
    "        active_logits = logits.view(-1, self.num_labels)[active_loss]\n",
    "        active_labels = seq.view(-1)[active_loss]\n",
    "        \n",
    "        loss = self.loss(active_logits, active_labels)\n",
    "        \n",
    "    def train_dataloader(self):\n",
    "        dataset = SequenceDataset(filename='./Processed MBStar/partitioned/mlm/mlm_mrna_data_chunk_0.txt')\n",
    "\n",
    "        pad_idx = dataset.vocab.stoi[\"[PAD]\"]\n",
    "\n",
    "        loader = DataLoader(\n",
    "                dataset=dataset,\n",
    "                batch_size=batch_size,\n",
    "                num_workers=num_workers,\n",
    "                shuffle=shuffle,\n",
    "                pin_memory=pin_memory,\n",
    "                collate_fn=CollateSequences(pad_idx=pad_idx)\n",
    "            )\n",
    "        \n",
    "        return loader\n",
    "        "
   ]
  },
  {
   "cell_type": "code",
   "execution_count": null,
   "metadata": {},
   "outputs": [],
   "source": [
    "import gc\n",
    "del [dataset]\n",
    "gc.collect()"
   ]
  },
  {
   "cell_type": "code",
   "execution_count": null,
   "metadata": {},
   "outputs": [],
   "source": []
  }
 ],
 "metadata": {
  "kernelspec": {
   "display_name": "Python 3",
   "language": "python",
   "name": "python3"
  },
  "language_info": {
   "codemirror_mode": {
    "name": "ipython",
    "version": 3
   },
   "file_extension": ".py",
   "mimetype": "text/x-python",
   "name": "python",
   "nbconvert_exporter": "python",
   "pygments_lexer": "ipython3",
   "version": "3.8.3"
  }
 },
 "nbformat": 4,
 "nbformat_minor": 4
}
